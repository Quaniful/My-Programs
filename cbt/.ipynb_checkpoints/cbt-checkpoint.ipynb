{
 "cells": [
  {
   "cell_type": "code",
   "execution_count": 4,
   "metadata": {},
   "outputs": [],
   "source": [
    "import pandas as pd"
   ]
  },
  {
   "cell_type": "code",
   "execution_count": 5,
   "metadata": {},
   "outputs": [],
   "source": [
    "data = pd.read_csv('db.csv', index_col=['date'])"
   ]
  },
  {
   "cell_type": "code",
   "execution_count": 6,
   "metadata": {},
   "outputs": [
    {
     "data": {
      "text/html": [
       "<div>\n",
       "<style scoped>\n",
       "    .dataframe tbody tr th:only-of-type {\n",
       "        vertical-align: middle;\n",
       "    }\n",
       "\n",
       "    .dataframe tbody tr th {\n",
       "        vertical-align: top;\n",
       "    }\n",
       "\n",
       "    .dataframe thead th {\n",
       "        text-align: right;\n",
       "    }\n",
       "</style>\n",
       "<table border=\"1\" class=\"dataframe\">\n",
       "  <thead>\n",
       "    <tr style=\"text-align: right;\">\n",
       "      <th></th>\n",
       "      <th>time</th>\n",
       "      <th>situation</th>\n",
       "      <th>thoughts</th>\n",
       "      <th>emotional_response</th>\n",
       "      <th>physical_response</th>\n",
       "      <th>actions</th>\n",
       "      <th>result</th>\n",
       "      <th>facts</th>\n",
       "      <th>alternative_thoughts</th>\n",
       "    </tr>\n",
       "    <tr>\n",
       "      <th>date</th>\n",
       "      <th></th>\n",
       "      <th></th>\n",
       "      <th></th>\n",
       "      <th></th>\n",
       "      <th></th>\n",
       "      <th></th>\n",
       "      <th></th>\n",
       "      <th></th>\n",
       "      <th></th>\n",
       "    </tr>\n",
       "  </thead>\n",
       "  <tbody>\n",
       "    <tr>\n",
       "      <th>2020-07-25</th>\n",
       "      <td>21:55</td>\n",
       "      <td>Playing Overwatch with Bar, After sitting with...</td>\n",
       "      <td>NaN</td>\n",
       "      <td>NaN</td>\n",
       "      <td>Stomach cramps, Feeling in my cheeks, Lips fee...</td>\n",
       "      <td>NaN</td>\n",
       "      <td>Passed after a short while of playing Overwatch</td>\n",
       "      <td>NaN</td>\n",
       "      <td>NaN</td>\n",
       "    </tr>\n",
       "  </tbody>\n",
       "</table>\n",
       "</div>"
      ],
      "text/plain": [
       "             time                                          situation  \\\n",
       "date                                                                   \n",
       "2020-07-25  21:55  Playing Overwatch with Bar, After sitting with...   \n",
       "\n",
       "            thoughts  emotional_response  \\\n",
       "date                                       \n",
       "2020-07-25       NaN                 NaN   \n",
       "\n",
       "                                            physical_response  actions  \\\n",
       "date                                                                     \n",
       "2020-07-25  Stomach cramps, Feeling in my cheeks, Lips fee...      NaN   \n",
       "\n",
       "                                                     result  facts  \\\n",
       "date                                                                 \n",
       "2020-07-25  Passed after a short while of playing Overwatch    NaN   \n",
       "\n",
       "            alternative_thoughts  \n",
       "date                              \n",
       "2020-07-25                   NaN  "
      ]
     },
     "execution_count": 6,
     "metadata": {},
     "output_type": "execute_result"
    }
   ],
   "source": [
    "data"
   ]
  },
  {
   "cell_type": "code",
   "execution_count": null,
   "metadata": {},
   "outputs": [],
   "source": []
  }
 ],
 "metadata": {
  "kernelspec": {
   "display_name": "Python 3",
   "language": "python",
   "name": "python3"
  },
  "language_info": {
   "codemirror_mode": {
    "name": "ipython",
    "version": 3
   },
   "file_extension": ".py",
   "mimetype": "text/x-python",
   "name": "python",
   "nbconvert_exporter": "python",
   "pygments_lexer": "ipython3",
   "version": "3.7.6"
  }
 },
 "nbformat": 4,
 "nbformat_minor": 4
}
